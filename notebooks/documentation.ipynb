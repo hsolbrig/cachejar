{
 "cells": [
  {
   "cell_type": "markdown",
   "metadata": {},
   "source": [
    "\n",
    "## The problem\n",
    "Application developers often find themselves in a situation where they have to pre-process relatively static input files.  This processing can often be time consuming due to the size of the input file and/or the complexity of the processing task itself.  As such, it often makes sense to preserve the output of the process, repeating it only when:\n",
    "* The contents of the input file changes\n",
    "* The input parameters to the process change\n",
    "* The process algorithm itself changes\n",
    "\n",
    "## One solution\n",
    "`cachejar` is designed to provide a generic solution to this problem. Given:\n",
    "* An application identifier\n",
    "* A uri, file name\n",
    "* An object identifier\n",
    "\n",
    "`cachejar` can determine whether processing is necessary and, if not, can return an image of an object that corresponds to the supplied parameters.\n",
    "\n",
    "It is up to the software developer to determine what constitutes an \"application identifier\" -- typically one might use a combination of a package name and a version identifier.\n",
    "\n",
    "## Overview\n",
    "`cachejar` includes two global objects:\n",
    "1. `factory` - a default instance of `CacheFactory` that keeps track of the caches for individual application versions.  By default, `cachjar` caches are located in the OS equivalent of the path: `~/.cachejar`.  The cache itself is organized as:\n",
    "```text\n",
    ".cachejar\n",
    "    |\n",
    "    + <application id 1>\n",
    "    |       |\n",
    "    |       + index -- A map that associates URI or file name, its size and modification time\n",
    "    |       |           with a list of object identifier to file names\n",
    "    |       |\n",
    "    |       + Axxxxxxxx-xxxx-xxxx-xxxx-xxxxxxxxxxxx - pickled object 1\n",
    "    |       |\n",
    "    |       + Axxxxxxxx-xxxx-xxxx-xxxx-xxxxxxxxxxxx - pickled object 2\n",
    "    |       |\n",
    "    |       + ...\n",
    "    |\n",
    "    + <application id 2>\n",
    "            |\n",
    "            + ...\n",
    "```\n",
    "2. `jar` - a function that returns returns a `CacheJar` object for a given application id. It is not necessary to persist the returned object, as it can be re-fetched whenever needed.\n",
    "\n",
    "In the example below, we hava a class (`MyClass`) that does some sort of processing on a named file or uri, based on the 'forward' parameter.  For this example, we just tweak the file name, but in real life the processing would most likely be done on the file or URI itself.\n",
    "\n",
    "We have also defined an input processor that returns an instance of `MyClass` using the parameters. It first checks the cache and, if not found, constructs an actual instance.\n"
   ]
  },
  {
   "cell_type": "code",
   "execution_count": 1,
   "metadata": {},
   "outputs": [
    {
     "name": "stdout",
     "output_type": "stream",
     "text": [
      "Processing https://github.com/hsolbrig/cachejar\n",
      "https://github.com/hsolbrig/cachejar\n",
      "Using cached image for https://github.com/hsolbrig/cachejar\n",
      "https://github.com/hsolbrig/cachejar\n",
      "Processing https://github.com/hsolbrig/cachejar\n",
      "rajehcac/girblosh/moc.buhtig//:sptth\n",
      "Using cached image for https://github.com/hsolbrig/cachejar\n",
      "rajehcac/girblosh/moc.buhtig//:sptth\n"
     ]
    }
   ],
   "source": [
    "import cachejar\n",
    "\n",
    "class MyClass:\n",
    "    def __init__(self, fname: str, forward: bool):\n",
    "        self.fname = fname if forward else fname[::-1]\n",
    "\n",
    "__version__ = \"1.3.0\"\n",
    "appid = __name__ + __version__\n",
    "cachejar.factory.clear(appid)\n",
    "\n",
    "def process_input(fname: str, forward: bool) -> MyClass:\n",
    "    my_obj = cachejar.jar(appid).object_for(fname, MyClass, forward)\n",
    "    if not my_obj:\n",
    "        print(f\"Processing {fname}\")\n",
    "        my_obj = MyClass(fname, forward)\n",
    "        cachejar.jar(appid).update(fname, MyClass(fname, forward), MyClass, forward)\n",
    "    else:\n",
    "        print(f\"Using cached image for {fname}\")\n",
    "    return my_obj\n",
    "        \n",
    "print(process_input(\"https://github.com/hsolbrig/cachejar\", forward=True).fname)\n",
    "print(process_input(\"https://github.com/hsolbrig/cachejar\", forward=True).fname)\n",
    "print(process_input(\"https://github.com/hsolbrig/cachejar\", forward=False).fname)\n",
    "print(process_input(\"https://github.com/hsolbrig/cachejar\", forward=False).fname)"
   ]
  },
  {
   "cell_type": "markdown",
   "metadata": {},
   "source": [
    "## Details\n",
    "### `CacheFactory`\n",
    "\n",
    "The `cachejar` package supplies a default instance of `CacheFactory`, which uses the OS specific equivalent of the path: `~/.cachejar` as its root.  The `cachejar.cachejar` method references this class when returning instances of the `CacheJar` class.\n",
    "\n",
    "One can change the location of the factory root through the `CacheFactory` constructor.  If you wish to change this globally for the entire application, assign the new value to the global `cachejar.cachefactory`.\n",
    "\n",
    "`CacheFactory.cache_root` returns the current cache directory and `cache_directory` the directory being used to cache a given application id (if any)"
   ]
  },
  {
   "cell_type": "code",
   "execution_count": 3,
   "metadata": {},
   "outputs": [
    {
     "name": "stdout",
     "output_type": "stream",
     "text": [
      "/Users/mrf7578/.cachejar\n",
      "/Users/mrf7578/.cachejar/someapp\n",
      "/tmp/caches\n",
      "/tmp/caches/someapp\n"
     ]
    }
   ],
   "source": [
    "import cachejar\n",
    "from cachejar.jar import CacheFactory\n",
    "\n",
    "print(cachejar.factory.cache_root)\n",
    "jar = cachejar.jar('someapp')       # Create a local cache\n",
    "print(cachejar.factory.cache_directory('someapp'))\n",
    "\n",
    "local_factory = CacheFactory('/tmp/caches')\n",
    "print(local_factory.cache_root)\n",
    "jar = local_factory.cachejar('someapp')\n",
    "print(local_factory.cache_directory('someapp'))\n",
    "# You can do this, but once done it holds for the life of the application (and Jupyter has\n",
    "# a life that extends well beyond this cell)\n",
    "# cachejar.cachefactory = local_factory"
   ]
  },
  {
   "cell_type": "markdown",
   "metadata": {},
   "source": [
    "You can clear an applications cache via the `CacheFactory.clear` command:"
   ]
  },
  {
   "cell_type": "code",
   "execution_count": 4,
   "metadata": {},
   "outputs": [
    {
     "name": "stdout",
     "output_type": "stream",
     "text": [
      "/Users/mrf7578/.cachejar/someapp\n",
      "/Users/mrf7578/.cachejar/someapp\n",
      "None\n"
     ]
    }
   ],
   "source": [
    "print(cachejar.factory.cache_directory('someapp'))\n",
    "cachejar.factory.clear('someapp')                            # Remove all contents\n",
    "print(cachejar.factory.cache_directory('someapp'))\n",
    "cachejar.factory.clear('someapp', remove_completely=True)    # Remove all knowledge\n",
    "print(cachejar.factory.cache_directory('someapp'))"
   ]
  },
  {
   "cell_type": "markdown",
   "metadata": {},
   "source": [
    "Caching can be globally or locally disabled.  When disabled no objects will be written or read from the cache."
   ]
  },
  {
   "cell_type": "markdown",
   "metadata": {},
   "source": [
    "jar = cachejar.jar('someapp')\n",
    "print(f\"Factory: {cachejar.factory.disabled}\")\n",
    "print(f\"Jar: {jar.disabled}\\n\")\n",
    "\n",
    "cachejar.factory.disabled = True\n",
    "print(f\"Factory: {cachejar.factory.disabled}\")\n",
    "print(f\"Jar: {jar.disabled}\\n\")\n",
    "\n",
    "jar.disabled = True\n",
    "print(f\"Factory: {cachejar.factory.disabled}\")\n",
    "print(f\"Jar: {jar.disabled}\\n\")\n",
    "\n",
    "cachejar.factory.disabled = False\n",
    "print(f\"Factory: {cachejar.factory.disabled}\")\n",
    "print(f\"Jar: {jar.disabled}\")\n",
    "jar.disabled = False"
   ]
  },
  {
   "cell_type": "markdown",
   "metadata": {},
   "source": [
    "### 'CacheJar`\n",
    "\n",
    "A `CacheJar` instance manages the cached objects for a given application.  Its constructor\n",
    "automatically creates a directory with the name of the application id and a JSON index file within it.\n",
    "\n",
    "#### `CacheJar.update`\n",
    "The `CacheJar.update` method takes:\n",
    "1. the name a file, directory or a URL\n",
    "2. an object that has been loaded from that file\n",
    "3. an object identifier (typically the object itself)\n",
    "4. any additional positional or keyword parameters that determined the final contents\n",
    "\n",
    "It computes a signature on the file/url -- if it is a URL, the signature consists of the `Last-Modified`, `Content-Length` and `ETag` elements returned from the http `HEAD` command.  If it is a file, it consists of the mode, size and modtime.  If a cache entries already exist for the file/url and the signature has changed, all of those entries are removed. The supplied object is then pickled, saved into an internal file and added to the cache index.\n",
    "\n",
    "#### `CacheJar.object_for\n",
    "The `CacheJar.object_for method takes:\n",
    "1. the name a file, directory or a URL\n",
    "2. an object identifier (typically the object itself)\n",
    "3. any additional positional or keyword parameters that determined the final contents\n",
    "\n",
    "As with the `update` method, a signature is computed and the cache is flushed if the signature is changed.  Otherwise, if a pickled file exists for that signature, object identifier and parameters, the picked file is reconstituted into its component object\n",
    "\n",
    "#### Other methods\n",
    "**`CacheJar.disabled`** - if `True`, the jar is not retrieving or storing information in the cache.  `disabled` can be set to true directly, or as a result of setting the `disabled` property on the factory level.  If set on the factory level, the cache can only be re-enabled on the factory level as well.\n",
    "\n",
    "**`CacheJar.clean`** - force the removal of all cache entries for a given name_or_url, the cache entries for a given object_id/parms/kwparms identifier or the intersection of the parameters if both are supplied.\n",
    "\n",
    "**`CacheJar.clear`** - remove all the cache entries for the associated application directory.  \n"
   ]
  }
 ],
 "metadata": {
  "kernelspec": {
   "display_name": "Python 3",
   "language": "python",
   "name": "python3"
  },
  "language_info": {
   "codemirror_mode": {
    "name": "ipython",
    "version": 3
   },
   "file_extension": ".py",
   "mimetype": "text/x-python",
   "name": "python",
   "nbconvert_exporter": "python",
   "pygments_lexer": "ipython3",
   "version": "3.6.3"
  }
 },
 "nbformat": 4,
 "nbformat_minor": 2
}
