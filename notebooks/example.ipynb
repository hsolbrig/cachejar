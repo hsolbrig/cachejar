{
 "cells": [
  {
   "cell_type": "code",
   "execution_count": 10,
   "metadata": {
    "collapsed": true
   },
   "outputs": [],
   "source": [
    "!pip install -e .. -q"
   ]
  },
  {
   "cell_type": "code",
   "execution_count": 5,
   "metadata": {},
   "outputs": [],
   "source": [
    "import os\n",
    "import hashlib\n",
    "import unittest\n",
    "import urllib.request\n",
    "\n",
    "import cachejar"
   ]
  },
  {
   "cell_type": "markdown",
   "metadata": {},
   "source": [
    "`ByteSum` computes an MD5 on a supplied URL.  Big files can take a while"
   ]
  },
  {
   "cell_type": "code",
   "execution_count": 8,
   "metadata": {},
   "outputs": [],
   "source": [
    "class ByteSum:\n",
    "    # An MD5 summary of a URL\n",
    "    def __init__(self, url):\n",
    "        self.hash = hashlib.md5(urllib.request.urlopen(url).read()).hexdigest()"
   ]
  },
  {
   "cell_type": "markdown",
   "metadata": {},
   "source": [
    "`cachejar`'s are identified by \"appid\" (could be a python package).  Each jar contains a map from a file name or url to a list of signatures (length, timestamp and other identifying information) and an associated object image.  If a file or url changes, the cached image will not be returned.\n",
    "\n",
    "In the example below, we cache checksums for a large url:"
   ]
  },
  {
   "cell_type": "code",
   "execution_count": 9,
   "metadata": {},
   "outputs": [
    {
     "name": "stdout",
     "output_type": "stream",
     "text": [
      "Not cached - computing md5\n",
      "MD5 for http://hl7.org/fhir/fhir.ttl = 8ce6c3545b7a238f0091abe05dbcb7dd\n",
      "Retrived from cache\n",
      "MD5 for http://hl7.org/fhir/fhir.ttl = 8ce6c3545b7a238f0091abe05dbcb7dd\n"
     ]
    }
   ],
   "source": [
    "appid = 'example_notebbook'\n",
    "url = \"http://hl7.org/fhir/fhir.ttl\"\n",
    "\n",
    "# Connect to the cachejar for this application\n",
    "jar = cachejar.jar(appid)\n",
    "\n",
    "# Remove any existing data\n",
    "jar.clear()\n",
    "\n",
    "# Invoke the same operation twice\n",
    "for _ in range(1, 3):\n",
    "    obj = jar.object_for(url, ByteSum)\n",
    "    if obj:\n",
    "        print(\"Retrived from cache\")\n",
    "    else:\n",
    "        print(\"Not cached - computing md5\")\n",
    "        obj = ByteSum(url)\n",
    "        jar.update(url, obj, ByteSum)\n",
    "    print(f\"MD5 for {url} = {obj.hash}\")"
   ]
  },
  {
   "cell_type": "code",
   "execution_count": null,
   "metadata": {
    "collapsed": true
   },
   "outputs": [],
   "source": []
  }
 ],
 "metadata": {
  "kernelspec": {
   "display_name": "Python 3",
   "language": "python",
   "name": "python3"
  },
  "language_info": {
   "codemirror_mode": {
    "name": "ipython",
    "version": 3
   },
   "file_extension": ".py",
   "mimetype": "text/x-python",
   "name": "python",
   "nbconvert_exporter": "python",
   "pygments_lexer": "ipython3",
   "version": "3.6.3"
  }
 },
 "nbformat": 4,
 "nbformat_minor": 2
}
